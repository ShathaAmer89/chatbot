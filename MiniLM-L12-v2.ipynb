{
 "cells": [
  {
   "cell_type": "code",
   "execution_count": 1,
   "id": "417e9937",
   "metadata": {},
   "outputs": [
    {
     "name": "stdout",
     "output_type": "stream",
     "text": [
      "Requirement already satisfied: transformers in c:\\users\\shath\\anaconda3\\lib\\site-packages (4.40.2)\n",
      "Requirement already satisfied: huggingface_hub in c:\\users\\shath\\anaconda3\\lib\\site-packages (0.23.0)\n",
      "Requirement already satisfied: filelock in c:\\users\\shath\\anaconda3\\lib\\site-packages (from transformers) (3.9.0)\n",
      "Requirement already satisfied: numpy>=1.17 in c:\\users\\shath\\anaconda3\\lib\\site-packages (from transformers) (1.24.3)\n",
      "Requirement already satisfied: packaging>=20.0 in c:\\users\\shath\\anaconda3\\lib\\site-packages (from transformers) (23.2)\n",
      "Requirement already satisfied: pyyaml>=5.1 in c:\\users\\shath\\anaconda3\\lib\\site-packages (from transformers) (6.0.1)\n",
      "Requirement already satisfied: regex!=2019.12.17 in c:\\users\\shath\\anaconda3\\lib\\site-packages (from transformers) (2023.12.25)\n",
      "Requirement already satisfied: requests in c:\\users\\shath\\anaconda3\\lib\\site-packages (from transformers) (2.31.0)\n",
      "Requirement already satisfied: tokenizers<0.20,>=0.19 in c:\\users\\shath\\anaconda3\\lib\\site-packages (from transformers) (0.19.1)\n",
      "Requirement already satisfied: safetensors>=0.4.1 in c:\\users\\shath\\anaconda3\\lib\\site-packages (from transformers) (0.4.2)\n",
      "Requirement already satisfied: tqdm>=4.27 in c:\\users\\shath\\anaconda3\\lib\\site-packages (from transformers) (4.65.0)\n",
      "Requirement already satisfied: fsspec>=2023.5.0 in c:\\users\\shath\\anaconda3\\lib\\site-packages (from huggingface_hub) (2024.2.0)\n",
      "Requirement already satisfied: typing-extensions>=3.7.4.3 in c:\\users\\shath\\anaconda3\\lib\\site-packages (from huggingface_hub) (4.10.0)\n",
      "Requirement already satisfied: colorama in c:\\users\\shath\\anaconda3\\lib\\site-packages (from tqdm>=4.27->transformers) (0.4.6)\n",
      "Requirement already satisfied: charset-normalizer<4,>=2 in c:\\users\\shath\\anaconda3\\lib\\site-packages (from requests->transformers) (2.0.4)\n",
      "Requirement already satisfied: idna<4,>=2.5 in c:\\users\\shath\\anaconda3\\lib\\site-packages (from requests->transformers) (3.4)\n",
      "Requirement already satisfied: urllib3<3,>=1.21.1 in c:\\users\\shath\\anaconda3\\lib\\site-packages (from requests->transformers) (2.2.1)\n",
      "Requirement already satisfied: certifi>=2017.4.17 in c:\\users\\shath\\anaconda3\\lib\\site-packages (from requests->transformers) (2024.2.2)\n"
     ]
    }
   ],
   "source": [
    "!pip install --upgrade transformers huggingface_hub\n"
   ]
  },
  {
   "cell_type": "code",
   "execution_count": 1,
   "id": "2d920d9c",
   "metadata": {},
   "outputs": [],
   "source": [
    "import warnings\n",
    "warnings.filterwarnings(\"ignore\", category=FutureWarning, message=\"`resume_download` is deprecated\")\n"
   ]
  },
  {
   "cell_type": "code",
   "execution_count": 2,
   "id": "09dee901",
   "metadata": {},
   "outputs": [
    {
     "data": {
      "text/plain": [
       "('./saved_tokenizer_L12\\\\tokenizer_config.json',\n",
       " './saved_tokenizer_L12\\\\special_tokens_map.json',\n",
       " './saved_tokenizer_L12\\\\unigram.json',\n",
       " './saved_tokenizer_L12\\\\added_tokens.json',\n",
       " './saved_tokenizer_L12\\\\tokenizer.json')"
      ]
     },
     "execution_count": 2,
     "metadata": {},
     "output_type": "execute_result"
    }
   ],
   "source": [
    "import pandas as pd\n",
    "from transformers import AutoTokenizer, AutoModel\n",
    "import torch\n",
    "\n",
    "# Last inn datasettet\n",
    "data_path = 'renset_fil_1.csv'  \n",
    "data = pd.read_csv(data_path, sep=';')\n",
    "\n",
    "# Forbehandling av datasettet\n",
    "data['Spørsmål_uten_stopwords'].fillna('manglende', inplace=True)\n",
    "data['combined_info'] = data[['Svar', 'Les mer her…', 'Link']].apply(lambda x: f\"{x['Svar']} {x['Les mer her…']} {x['Link']}\", axis=1)\n",
    "\n",
    "# Initialiser modell og tokenizer\n",
    "model_name = 'sentence-transformers/paraphrase-multilingual-MiniLM-L12-v2'\n",
    "tokenizer = AutoTokenizer.from_pretrained(model_name)\n",
    "model = AutoModel.from_pretrained(model_name)\n",
    "\n",
    "# Funksjon for å generere embeddings\n",
    "def encode(texts):\n",
    "    with torch.no_grad():\n",
    "        return model(**tokenizer(texts, return_tensors='pt', padding=True, truncation=True)).last_hidden_state.mean(dim=1)\n",
    "\n",
    "\n",
    "question_embeddings = encode(data['Spørsmål_uten_stopwords'].tolist())\n",
    "\n",
    "def find_most_similar_question(user_question, k=1):\n",
    "    user_question_embedding = encode([user_question])\n",
    "    cos_sim = torch.nn.functional.cosine_similarity(user_question_embedding, question_embeddings)\n",
    "    top_results = torch.topk(cos_sim, k)\n",
    "\n",
    "    # Sjekk og hent det faktiske indeksnummeret fra tensorobjektet\n",
    "    best_index = top_results.indices[0].item()  # Bruk .item() for å konvertere tensor til et Python heltall\n",
    "\n",
    "    return data.iloc[best_index]['combined_info']\n",
    "\n",
    "# Lagre modellen og tokenizeren\n",
    "model_path = './saved_model_L12'\n",
    "tokenizer_path = './saved_tokenizer_L12'\n",
    "model.save_pretrained(model_path)\n",
    "tokenizer.save_pretrained(tokenizer_path)\n"
   ]
  },
  {
   "cell_type": "code",
   "execution_count": 4,
   "id": "b0c8a942",
   "metadata": {},
   "outputs": [],
   "source": [
    "# Laste inn modellen og tokenizeren på nytt (i et nytt script eller en ny notebook)\n",
    "model = AutoModel.from_pretrained(model_path)\n",
    "tokenizer = AutoTokenizer.from_pretrained(tokenizer_path)\n",
    "\n"
   ]
  },
  {
   "cell_type": "code",
   "execution_count": 5,
   "id": "44f737d7",
   "metadata": {},
   "outputs": [
    {
     "name": "stdout",
     "output_type": "stream",
     "text": [
      "Normalarbeidstiden i Husbanken varierer avhengig av sesongen:Fra 15. mai til 14. september er arbeidstiden kl. 08.00-15.00. Fra 15. september til 14. mai er arbeidstiden kl. 08.00-15.45 Les mer her… https://husnettet-d/HR-Portalen/For-ansatte/Sider/Arbeidstid\n"
     ]
    }
   ],
   "source": [
    "# Eksempel på bruk\n",
    "user_question = \"hvor lenge jobber jeg i husbanken\"\n",
    "print(find_most_similar_question(user_question))\n"
   ]
  },
  {
   "cell_type": "code",
   "execution_count": 6,
   "id": "d62fefa3",
   "metadata": {},
   "outputs": [
    {
     "name": "stdout",
     "output_type": "stream",
     "text": [
      "Running on local URL:  http://127.0.0.1:7884\n",
      "\n",
      "To create a public link, set `share=True` in `launch()`.\n"
     ]
    },
    {
     "data": {
      "text/html": [
       "<div><iframe src=\"http://127.0.0.1:7884/\" width=\"100%\" height=\"500\" allow=\"autoplay; camera; microphone; clipboard-read; clipboard-write;\" frameborder=\"0\" allowfullscreen></iframe></div>"
      ],
      "text/plain": [
       "<IPython.core.display.HTML object>"
      ]
     },
     "metadata": {},
     "output_type": "display_data"
    }
   ],
   "source": [
    "import gradio as gr\n",
    "import re\n",
    "\n",
    "def format_links_in_text(text):\n",
    "    # Finn alle URL i teksten og erstatt dem med HTML-lenker\n",
    "    url_pattern = r'https?://\\S+/([^/]+)$'  # Regex for å fange opp den siste delen av URL-en (navnet på filen)\n",
    "    text_with_links = re.sub(url_pattern, r\"<a href='\\g<0>' target='_blank'>\\g<1></a>\", text)\n",
    "    return text_with_links\n",
    "\n",
    "def answer_question(user_question):\n",
    "    response = find_most_similar_question(user_question)\n",
    "    response_with_links = format_links_in_text(response)\n",
    "    return response_with_links\n",
    "\n",
    "interface = gr.Interface(fn=answer_question,\n",
    "                         inputs=gr.Textbox(lines=2, placeholder=\"Skriv inn ditt spørsmål her...\"),\n",
    "                         outputs=\"html\",  # Endre til HTML-utgang for å tillate HTML-format\n",
    "                         title=\"Chatbot\",\n",
    "                         description=\"Skriv inn et spørsmål for å få et svar fra chatboten.\")\n",
    "\n",
    "if __name__ == \"__main__\":\n",
    "    interface.launch()\n"
   ]
  },
  {
   "cell_type": "code",
   "execution_count": null,
   "id": "787cb832",
   "metadata": {},
   "outputs": [],
   "source": []
  }
 ],
 "metadata": {
  "kernelspec": {
   "display_name": "Python 3 (ipykernel)",
   "language": "python",
   "name": "python3"
  },
  "language_info": {
   "codemirror_mode": {
    "name": "ipython",
    "version": 3
   },
   "file_extension": ".py",
   "mimetype": "text/x-python",
   "name": "python",
   "nbconvert_exporter": "python",
   "pygments_lexer": "ipython3",
   "version": "3.11.5"
  }
 },
 "nbformat": 4,
 "nbformat_minor": 5
}
