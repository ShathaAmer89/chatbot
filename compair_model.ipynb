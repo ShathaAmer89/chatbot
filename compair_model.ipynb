{
 "cells": [
  {
   "cell_type": "code",
   "execution_count": 1,
   "id": "eac918be",
   "metadata": {},
   "outputs": [],
   "source": [
    "import warnings\n",
    "warnings.filterwarnings(\"ignore\", category=FutureWarning, message=\"`resume_download` is deprecated\")"
   ]
  },
  {
   "cell_type": "code",
   "execution_count": 2,
   "id": "aa8af0f4",
   "metadata": {
    "scrolled": true
   },
   "outputs": [
    {
     "data": {
      "text/plain": [
       "('./saved_tokenizer_L12\\\\tokenizer_config.json',\n",
       " './saved_tokenizer_L12\\\\special_tokens_map.json',\n",
       " './saved_tokenizer_L12\\\\unigram.json',\n",
       " './saved_tokenizer_L12\\\\added_tokens.json',\n",
       " './saved_tokenizer_L12\\\\tokenizer.json')"
      ]
     },
     "execution_count": 2,
     "metadata": {},
     "output_type": "execute_result"
    }
   ],
   "source": [
    "import pandas as pd\n",
    "from transformers import AutoTokenizer, AutoModel\n",
    "import torch\n",
    "\n",
    "# Last inn datasettet\n",
    "data_path = 'renset_fil_1.csv'  \n",
    "data = pd.read_csv(data_path, sep=';')\n",
    "\n",
    "# Forbehandling av datasettet\n",
    "data['Spørsmål_uten_stopwords'].fillna('manglende', inplace=True)\n",
    "data['combined_info'] = data[['Svar', 'Les mer her…', 'Link']].apply(lambda x: f\"{x['Svar']} {x['Les mer her…']} {x['Link']}\", axis=1)\n",
    "\n",
    "# Initialiser modell og tokenizer\n",
    "model1_name = 'sentence-transformers/paraphrase-multilingual-MiniLM-L12-v2'\n",
    "tokenizer = AutoTokenizer.from_pretrained(model1_name)\n",
    "model1 = AutoModel.from_pretrained(model1_name)\n",
    "\n",
    "# Funksjon for å generere embeddings\n",
    "def encode(texts):\n",
    "    with torch.no_grad():\n",
    "        return model1(**tokenizer(texts, return_tensors='pt', padding=True, truncation=True)).last_hidden_state.mean(dim=1)\n",
    "\n",
    "\n",
    "question_embeddings = encode(data['Spørsmål_uten_stopwords'].tolist())\n",
    "\n",
    "def find_most_similar_question(user_question, k=1):\n",
    "    user_question_embedding = encode([user_question])\n",
    "    cos_sim = torch.nn.functional.cosine_similarity(user_question_embedding, question_embeddings)\n",
    "    top_results = torch.topk(cos_sim, k)\n",
    "\n",
    "    # Sjekk og hent det faktiske indeksnummeret fra tensorobjektet\n",
    "    best_index = top_results.indices[0].item()  # Bruk .item() for å konvertere tensor til et Python heltall\n",
    "\n",
    "    return data.iloc[best_index]['combined_info']\n",
    "\n",
    "# Lagre modellen og tokenizeren\n",
    "model1_path = './saved_model_L12'\n",
    "tokenizer_path = './saved_tokenizer_L12'\n",
    "model1.save_pretrained(model1_path)\n",
    "tokenizer.save_pretrained(tokenizer_path)\n"
   ]
  },
  {
   "cell_type": "code",
   "execution_count": 3,
   "id": "3db53f8a",
   "metadata": {},
   "outputs": [
    {
     "data": {
      "text/plain": [
       "('./saved_tokenizer_paraphrase_xlm_r_multilingual_v1\\\\tokenizer_config.json',\n",
       " './saved_tokenizer_paraphrase_xlm_r_multilingual_v1\\\\special_tokens_map.json',\n",
       " './saved_tokenizer_paraphrase_xlm_r_multilingual_v1\\\\sentencepiece.bpe.model',\n",
       " './saved_tokenizer_paraphrase_xlm_r_multilingual_v1\\\\added_tokens.json',\n",
       " './saved_tokenizer_paraphrase_xlm_r_multilingual_v1\\\\tokenizer.json')"
      ]
     },
     "execution_count": 3,
     "metadata": {},
     "output_type": "execute_result"
    }
   ],
   "source": [
    "import pandas as pd\n",
    "from transformers import AutoTokenizer, AutoModel\n",
    "import torch\n",
    "\n",
    "# Sjekker om CUDA (GPU-støtte) er tilgjengelig, ellers bruk CPU\n",
    "device = 'cuda' if torch.cuda.is_available() else 'cpu'\n",
    "\n",
    "# Last inn datasettet\n",
    "data_path = 'renset_fil_1.csv'  \n",
    "data = pd.read_csv(data_path, sep=';')\n",
    "\n",
    "# Forbehandling av datasettet\n",
    "data['Spørsmål_uten_stopwords'].fillna('manglende', inplace=True)\n",
    "data['combined_info'] = data[['Svar', 'Les mer her…', 'Link']].apply(\n",
    "    lambda x: f\"{x['Svar']} {x['Les mer her…']} {x['Link']}\", axis=1)\n",
    "\n",
    "# Initialiser modell og tokenizer\n",
    "model2_name = 'sentence-transformers/paraphrase-xlm-r-multilingual-v1'\n",
    "tokenizer = AutoTokenizer.from_pretrained(model2_name)\n",
    "model2 = AutoModel.from_pretrained(model2_name).to(device)\n",
    "\n",
    "# Funksjon for å generere embeddings med batch-behandling\n",
    "def batch_encode(texts, batch_size=32):\n",
    "    model2.eval()\n",
    "    all_embeddings = []\n",
    "    \n",
    "    for i in range(0, len(texts), batch_size):\n",
    "        batch_texts = texts[i:i+batch_size]\n",
    "        encoded_input = tokenizer(batch_texts, return_tensors='pt', padding=True, truncation=True).to(device)\n",
    "        with torch.no_grad():\n",
    "            batch_embeddings = model2(**encoded_input).last_hidden_state.mean(dim=1)\n",
    "        all_embeddings.append(batch_embeddings.cpu())\n",
    "    \n",
    "    return torch.cat(all_embeddings, dim=0)\n",
    "\n",
    "# Generer embeddings for alle spørsmål\n",
    "question_embeddings = batch_encode(data['Spørsmål_uten_stopwords'].tolist())\n",
    "\n",
    "# Finn det mest lignende spørsmålet\n",
    "def find_most_similar_question(user_question, k=1):\n",
    "    user_question_embedding = batch_encode([user_question])\n",
    "    cos_sim = torch.nn.functional.cosine_similarity(user_question_embedding, question_embeddings)\n",
    "    top_results = torch.topk(cos_sim, k)\n",
    "\n",
    "    best_index = top_results.indices[0].item()\n",
    "    return data.iloc[best_index]['combined_info']\n",
    "\n",
    "# Lagre modellen og tokenizeren for senere bruk\n",
    "model2_path = './saved_model_paraphrase_xlm_r_multilingual_v1'\n",
    "tokenizer_path = './saved_tokenizer_paraphrase_xlm_r_multilingual_v1'\n",
    "model2.save_pretrained(model2_path)\n",
    "tokenizer.save_pretrained(tokenizer_path)"
   ]
  },
  {
   "cell_type": "code",
   "execution_count": 4,
   "id": "81d6a5ec",
   "metadata": {},
   "outputs": [],
   "source": [
    "import pandas as pd\n",
    "import torch\n",
    "from transformers import AutoTokenizer, AutoModel\n",
    "\n",
    "# Assume you have loaded the dataset and combined information as previously shown\n",
    "data_path = 'renset_fil_1.csv'  \n",
    "data = pd.read_csv(data_path, sep=';')\n",
    "data['Spørsmål_uten_stopwords'].fillna('manglende', inplace=True)\n",
    "data['combined_info'] = data[['Svar', 'Les mer her…', 'Link']].apply(\n",
    "    lambda x: f\"{x['Svar']} {x['Les mer her…']} {x['Link']}\", axis=1)\n",
    "\n",
    "# Loading models and tokenizers\n",
    "model1_path = './saved_model_L12'\n",
    "tokenizer1_path = './saved_tokenizer_L12'\n",
    "model1 = AutoModel.from_pretrained(model1_path)\n",
    "tokenizer1 = AutoTokenizer.from_pretrained(tokenizer1_path)\n",
    "\n",
    "model2_path = './saved_model_paraphrase_xlm_r_multilingual_v1'\n",
    "tokenizer2_path = './saved_tokenizer_paraphrase_xlm_r_multilingual_v1'\n",
    "model2 = AutoModel.from_pretrained(model2_path)\n",
    "tokenizer2 = AutoTokenizer.from_pretrained(tokenizer2_path)\n",
    "\n",
    "# Separate embeddings generation\n",
    "def encode(model, tokenizer, texts):\n",
    "    model.eval()\n",
    "    device = model.device  # Ensures using the same device as the model\n",
    "    with torch.no_grad():\n",
    "        encoded_input = tokenizer(texts, return_tensors='pt', padding=True, truncation=True).to(device)\n",
    "        outputs = model(**encoded_input)\n",
    "        return outputs.last_hidden_state.mean(dim=1)\n",
    "\n",
    "# Generating embeddings separately for each model\n",
    "question_embeddings1 = encode(model1, tokenizer1, data['Spørsmål_uten_stopwords'].tolist())\n",
    "question_embeddings2 = encode(model2, tokenizer2, data['Spørsmål_uten_stopwords'].tolist())\n",
    "\n",
    "# Adjusted find_most_similar_question function\n",
    "def find_most_similar_question(model, tokenizer, embeddings, user_question, k=1):\n",
    "    user_question_embedding = encode(model, tokenizer, [user_question])\n",
    "    cos_sim = torch.nn.functional.cosine_similarity(user_question_embedding, embeddings)\n",
    "    top_results = torch.topk(cos_sim, k)\n",
    "    best_index = top_results.indices[0].item()\n",
    "    return data.iloc[best_index]['combined_info']\n",
    "\n",
    "def compare_answers(user_question):\n",
    "    answer1 = find_most_similar_question(model1, tokenizer1, question_embeddings1, user_question)\n",
    "    answer2 = find_most_similar_question(model2, tokenizer2, question_embeddings2, user_question)\n",
    "    \n",
    "    \n",
    "    if answer1 == answer2:\n",
    "        return answer1\n",
    "    else:\n",
    "        print(answer1)\n",
    "        user_response = input(\"Er dette svaret du trenger (ja/nei)? \")\n",
    "        if user_response.lower() == 'nei':\n",
    "            return answer2\n",
    "        else:\n",
    "            return \"Så bra, ha en fin dag!\"\n"
   ]
  },
  {
   "cell_type": "code",
   "execution_count": 15,
   "id": "183b2aed",
   "metadata": {},
   "outputs": [
    {
     "name": "stdout",
     "output_type": "stream",
     "text": [
      "Selected answer: Du kan bruke egenmelding:-Når du har arbeidet i Husbanken i minst to måneder.-Når du er borte fra jobben i minst én hel dag.-I opp til 8 kalenderdager i løpet av 16 kalenderdager.-I til sammen 24 kalenderdager i løpet av en 12 månedersperiode. Les mer her… https://husnettet-d/HR-Portalen/For-ansatte/Sider/Sykdom\n"
     ]
    }
   ],
   "source": [
    "# Example of usage\n",
    "user_question = \"Hvor mange egenmeldingsdager kan jeg bruke? \"\n",
    "final_answer = compare_answers(user_question)\n",
    "print(\"Selected answer:\", final_answer)\n"
   ]
  },
  {
   "cell_type": "code",
   "execution_count": null,
   "id": "d9cb30bb",
   "metadata": {},
   "outputs": [],
   "source": []
  },
  {
   "cell_type": "code",
   "execution_count": null,
   "id": "3bc286b3",
   "metadata": {},
   "outputs": [],
   "source": []
  }
 ],
 "metadata": {
  "kernelspec": {
   "display_name": "Python 3 (ipykernel)",
   "language": "python",
   "name": "python3"
  },
  "language_info": {
   "codemirror_mode": {
    "name": "ipython",
    "version": 3
   },
   "file_extension": ".py",
   "mimetype": "text/x-python",
   "name": "python",
   "nbconvert_exporter": "python",
   "pygments_lexer": "ipython3",
   "version": "3.11.5"
  }
 },
 "nbformat": 4,
 "nbformat_minor": 5
}
