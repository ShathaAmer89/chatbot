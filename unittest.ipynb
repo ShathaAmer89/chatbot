{
 "cells": [
  {
   "cell_type": "code",
   "execution_count": 1,
   "id": "2cb0c4ff",
   "metadata": {},
   "outputs": [
    {
     "name": "stderr",
     "output_type": "stream",
     "text": [
      ".\n",
      "----------------------------------------------------------------------\n",
      "Ran 1 test in 0.006s\n",
      "\n",
      "OK\n"
     ]
    }
   ],
   "source": [
    "import unittest\n",
    "from unittest.mock import patch\n",
    "from transformers import AutoModel, AutoTokenizer\n",
    "\n",
    "class TestTextProcessing(unittest.TestCase):\n",
    "    def setUp(self):\n",
    "        self.model_path = './saved_model_L12'\n",
    "        self.tokenizer_path = './saved_tokenizer_L12'\n",
    "\n",
    "    @patch('transformers.AutoTokenizer.from_pretrained')\n",
    "    @patch('transformers.AutoModel.from_pretrained')\n",
    "    def test_load_models(self, mock_model_from_pretrained, mock_tokenizer_from_pretrained):\n",
    "        # Simulerer lasting av modeller\n",
    "        model = AutoModel.from_pretrained(self.model_path)\n",
    "        tokenizer = AutoTokenizer.from_pretrained(self.tokenizer_path)\n",
    "\n",
    "        # Sjekker at de riktige kallene har blitt gjort\n",
    "        mock_model_from_pretrained.assert_called_once_with(self.model_path)\n",
    "        mock_tokenizer_from_pretrained.assert_called_once_with(self.tokenizer_path)\n",
    "\n",
    "# Denne delen kjører testene\n",
    "if __name__ == '__main__':\n",
    "    unittest.main(argv=['first-arg-is-ignored'], exit=False)\n"
   ]
  },
  {
   "cell_type": "code",
   "execution_count": null,
   "id": "d812319d",
   "metadata": {},
   "outputs": [],
   "source": []
  }
 ],
 "metadata": {
  "kernelspec": {
   "display_name": "Python 3 (ipykernel)",
   "language": "python",
   "name": "python3"
  },
  "language_info": {
   "codemirror_mode": {
    "name": "ipython",
    "version": 3
   },
   "file_extension": ".py",
   "mimetype": "text/x-python",
   "name": "python",
   "nbconvert_exporter": "python",
   "pygments_lexer": "ipython3",
   "version": "3.11.5"
  }
 },
 "nbformat": 4,
 "nbformat_minor": 5
}
